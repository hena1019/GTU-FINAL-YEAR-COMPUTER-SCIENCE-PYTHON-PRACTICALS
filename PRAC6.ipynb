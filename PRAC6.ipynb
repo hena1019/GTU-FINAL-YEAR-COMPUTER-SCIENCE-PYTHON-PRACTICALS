{
  "nbformat": 4,
  "nbformat_minor": 0,
  "metadata": {
    "colab": {
      "name": "PRAC6.ipynb",
      "provenance": [],
      "authorship_tag": "ABX9TyMvNuueDy8Qu6iyT4cxJd3M",
      "include_colab_link": true
    },
    "kernelspec": {
      "name": "python3",
      "display_name": "Python 3"
    },
    "language_info": {
      "name": "python"
    }
  },
  "cells": [
    {
      "cell_type": "markdown",
      "metadata": {
        "id": "view-in-github",
        "colab_type": "text"
      },
      "source": [
        "<a href=\"https://colab.research.google.com/github/hena1019/GTU-FINAL-YEAR-COMPUTER-SCIENCE-PYTHON-PRACTICALS/blob/main/PRAC6.ipynb\" target=\"_parent\"><img src=\"https://colab.research.google.com/assets/colab-badge.svg\" alt=\"Open In Colab\"/></a>"
      ]
    },
    {
      "cell_type": "code",
      "metadata": {
        "colab": {
          "base_uri": "https://localhost:8080/"
        },
        "id": "d5j-s8jG56HL",
        "outputId": "5b97b1df-16c4-4f6d-9c3b-944e4f4acc9c"
      },
      "source": [
        "class Account:\n",
        " def __init__(self):\n",
        "  self.balance=0\n",
        " def deposit(self):\n",
        "  amount=float(input(\"Enter amount to be Deposited: \"))\n",
        "  self.balance += amount\n",
        " def withdraw(self):\n",
        "  amount = float(input(\"Enter amount to be Withdrawn: \"))\n",
        "  if self.balance>=amount:\n",
        "    self.balance-=amount\n",
        "  else:\n",
        "    print(\"\\n Insufficient balance \")\n",
        " def showbalance(self):\n",
        "  print(\"Net Available Balance=\",self.balance)\n",
        " def transfer(self,s2):\n",
        "  amount = float(input(\"\\nEnter amount to be transferred: \"))\n",
        "  if self.balance>=amount:\n",
        "    self.balance-=amount\n",
        "    s2.balance+=amount\n",
        "  else:\n",
        "    print(\"insufficient balance\")\n",
        " \n",
        "s1 = Account()\n",
        "s2 = Account()\n",
        "print(\"Deposit in S1\")\n",
        "s1.deposit()\n",
        "print(\"Deposit in S2\")\n",
        "s2.deposit()\n",
        "print(\"\\nS1 balance:\")\n",
        "s1.showbalance()\n",
        "print(\"\\nS2 balance:\")\n",
        "s2.showbalance()\n",
        "print(\"\\nWithdraw from S2:\")\n",
        "s2.withdraw()\n",
        "print(\"\\nS2 balance:\")\n",
        "s2.showbalance()\n",
        "print(\"\\nTransfer from S1 to S2:\")\n",
        "s1.transfer(s2)\n",
        "print(\"\\nS1 balance:\")\n",
        "s1.showbalance()\n",
        "print(\"\\nS2 balance:\")\n",
        "s2.showbalance()"
      ],
      "execution_count": 3,
      "outputs": [
        {
          "output_type": "stream",
          "text": [
            "Deposit in S1\n",
            "Enter amount to be Deposited: 6000\n",
            "Deposit in S2\n",
            "Enter amount to be Deposited: 4000\n",
            "\n",
            "S1 balance:\n",
            "Net Available Balance= 6000.0\n",
            "\n",
            "S2 balance:\n",
            "Net Available Balance= 4000.0\n",
            "\n",
            "Withdraw from S2:\n",
            "Enter amount to be Withdrawn: 2000\n",
            "\n",
            "S2 balance:\n",
            "Net Available Balance= 2000.0\n",
            "\n",
            "Transfer from S1 to S2:\n",
            "\n",
            "Enter amount to be transferred: 2000\n",
            "\n",
            "S1 balance:\n",
            "Net Available Balance= 4000.0\n",
            "\n",
            "S2 balance:\n",
            "Net Available Balance= 4000.0\n"
          ],
          "name": "stdout"
        }
      ]
    },
    {
      "cell_type": "code",
      "metadata": {
        "colab": {
          "base_uri": "https://localhost:8080/"
        },
        "id": "TRjoKaPK84Ai",
        "outputId": "f21ca1ce-b29b-40af-8c37-a8d553b972a9"
      },
      "source": [
        "class Person:\n",
        " def __init__(self, name):\n",
        "  self.name = name\n",
        "\n",
        "class Businessman(Person):\n",
        " def __init__(self, name, income, worker):\n",
        "  Person.__init__(self,name)\n",
        "  self.income = income\n",
        "  self.worker = worker\n",
        " def display(self):\n",
        "     print(\"Businessman\")\n",
        "     print(\"Name:\", self.name)\n",
        "     print(\"income:\", self.income)\n",
        "     print(\"worker under:\",self.worker)\n",
        "\n",
        "class Employee(Person):\n",
        " def __init__(self, name, income):\n",
        "  Person.__init__(self,name)\n",
        "  self.income = income\n",
        " def display(self):\n",
        "     print(\"Employee\")\n",
        "     print(\"Name:\", self.name)\n",
        "     print(\"income:\", self.income)\n",
        "\n",
        "a = Businessman(\"Niraj\", 250000 , 25)\n",
        "b = Employee(\"Hena\", 75000)\n",
        "a.display()\n",
        "b.display()\n",
        "if a.income > b.income:\n",
        " print(\"Businessman has high income.\")\n",
        "else:\n",
        " print(\"Employee has high income.\")"
      ],
      "execution_count": 6,
      "outputs": [
        {
          "output_type": "stream",
          "text": [
            "Businessman\n",
            "Name: Niraj\n",
            "income: 250000\n",
            "worker under: 25\n",
            "Employee\n",
            "Name: Hena\n",
            "income: 75000\n",
            "Businessman has high income.\n"
          ],
          "name": "stdout"
        }
      ]
    },
    {
      "cell_type": "code",
      "metadata": {
        "colab": {
          "base_uri": "https://localhost:8080/"
        },
        "id": "asfagQau-bbo",
        "outputId": "75bb6741-d58a-4753-f173-62c4488ae427"
      },
      "source": [
        "class Clock:\n",
        " def __init__(self,hours=0, minutes=0, seconds=0):\n",
        "  self.hours = hours\n",
        "  self.minutes = minutes\n",
        "  self.seconds = seconds\n",
        " def set(self,hours, minutes, seconds):\n",
        "  self.hours = hours\n",
        "  self.minutes = minutes\n",
        "  self.seconds = seconds\n",
        " def tick(self):\n",
        "  if self.seconds == 59:\n",
        "    self.seconds = 0\n",
        "    if self.minutes == 59:\n",
        "      self.minutes = 0\n",
        "      if self.hours == 23:\n",
        "        self.hours = 0\n",
        "      else:\n",
        "        self.hours += 1\n",
        "    else:\n",
        "      self.minutes += 1\n",
        "  else:\n",
        "    self.seconds += 1\n",
        " def display(self):\n",
        "  print(\"%d:%d:%d\" % (self.hours, self.minutes, self.seconds))\n",
        "x = Clock()\n",
        "x.set(10,59,59)\n",
        "print(\"Time\")\n",
        "x.display() \n",
        "x.tick()\n",
        "print(\"After 1 second\")\n",
        "x.display()\n",
        "print(\"After 1 hour 5 minutes \")\n",
        "for i in range(3900):\n",
        " x.tick()\n",
        "x.display()"
      ],
      "execution_count": 11,
      "outputs": [
        {
          "output_type": "stream",
          "text": [
            "Time\n",
            "10:59:59\n",
            "After 1 second\n",
            "11:0:0\n",
            "After 1 hour 5 minutes \n",
            "12:5:0\n"
          ],
          "name": "stdout"
        }
      ]
    },
    {
      "cell_type": "code",
      "metadata": {
        "colab": {
          "base_uri": "https://localhost:8080/"
        },
        "id": "uX80vIKF_wLc",
        "outputId": "cd2d76a9-8645-4153-c3eb-74a0a11e8f0f"
      },
      "source": [
        "class A:\n",
        " def __init__(self):\n",
        "  print(\"A.__init__\")\n",
        "class B(A):\n",
        " def __init__(self):\n",
        "  print(\"B.__init__\")\n",
        "  super().__init__() \n",
        "class C(A):\n",
        " def __init__(self):\n",
        "  print(\"C.__init__\")\n",
        "  super().__init__()\n",
        "class D(B,C):\n",
        " def __init__(self):\n",
        "  print(\"D.__init__\")\n",
        "  super().__init__()\n",
        "x = D()"
      ],
      "execution_count": 12,
      "outputs": [
        {
          "output_type": "stream",
          "text": [
            "D.__init__\n",
            "B.__init__\n",
            "C.__init__\n",
            "A.__init__\n"
          ],
          "name": "stdout"
        }
      ]
    }
  ]
}