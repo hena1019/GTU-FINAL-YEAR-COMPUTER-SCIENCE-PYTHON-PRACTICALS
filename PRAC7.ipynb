{
  "nbformat": 4,
  "nbformat_minor": 0,
  "metadata": {
    "colab": {
      "name": "PRAC7.ipynb",
      "provenance": [],
      "authorship_tag": "ABX9TyM9+ktOy8Us3tAJzG9dXlTm",
      "include_colab_link": true
    },
    "kernelspec": {
      "name": "python3",
      "display_name": "Python 3"
    },
    "language_info": {
      "name": "python"
    }
  },
  "cells": [
    {
      "cell_type": "markdown",
      "metadata": {
        "id": "view-in-github",
        "colab_type": "text"
      },
      "source": [
        "<a href=\"https://colab.research.google.com/github/hena1019/GTU-FINAL-YEAR-COMPUTER-SCIENCE-PYTHON-PRACTICALS/blob/main/PRAC7.ipynb\" target=\"_parent\"><img src=\"https://colab.research.google.com/assets/colab-badge.svg\" alt=\"Open In Colab\"/></a>"
      ]
    },
    {
      "cell_type": "code",
      "metadata": {
        "id": "b_Bje98iBZ3s",
        "colab": {
          "base_uri": "https://localhost:8080/"
        },
        "outputId": "e62d6d99-66d4-4c94-dcf8-0bf324988aca"
      },
      "source": [
        "def binarysearch(L,value,low,high):\n",
        " if high == low:\n",
        "  return L[low] == value\n",
        " mid = (low + high)//2\n",
        " if L[mid] == value:\n",
        "  return mid\n",
        " elif L[mid] > value:\n",
        "  return binarysearch(L,value, low, mid-1)\n",
        " else:\n",
        "  return binarysearch(L,value,mid+1,high)\n",
        "L = [1,9,19,23,37,46,60,63,77,82,99]\n",
        "value = 60\n",
        "print(\"value\",value,\"is at\", binarysearch(L,value,0,len(L)-1),\" position\")"
      ],
      "execution_count": 14,
      "outputs": [
        {
          "output_type": "stream",
          "text": [
            "value 60 is at 6  position\n"
          ],
          "name": "stdout"
        }
      ]
    },
    {
      "cell_type": "code",
      "metadata": {
        "colab": {
          "base_uri": "https://localhost:8080/"
        },
        "id": "esoO-O2qIyXE",
        "outputId": "2a4493ab-2bfc-488e-f06a-d712b0096383"
      },
      "source": [
        "def SelectionSort(list):\n",
        " s = 0\n",
        " while s != len(list):\n",
        "  for i in range(s,len(list)):\n",
        "    if list[i] < list[s]:\n",
        "      temp = list[i]\n",
        "      list[i] = list[s]\n",
        "      list[s] = temp\n",
        "    s+=1\n",
        " return list\n",
        "L = [23,12,34,55,54,1,32,67]\n",
        "print(L)\n",
        "print(\"Sorted list :\", SelectionSort(L))\n"
      ],
      "execution_count": 15,
      "outputs": [
        {
          "output_type": "stream",
          "text": [
            "[23, 12, 34, 55, 54, 1, 32, 67]\n",
            "Sorted list : [23, 12, 34, 55, 54, 1, 32, 67]\n"
          ],
          "name": "stdout"
        }
      ]
    },
    {
      "cell_type": "code",
      "metadata": {
        "colab": {
          "base_uri": "https://localhost:8080/"
        },
        "id": "ZDiuf-sHJCjU",
        "outputId": "397c8017-3890-42e4-ed5a-1dfa7c6f653f"
      },
      "source": [
        "def merge(list, l, m, r):\n",
        " n1 = m - l + 1\n",
        " n2 = r- m\n",
        " L = [0] * (n1)\n",
        " R = [0] * (n2)\n",
        " for i in range(0 , n1):\n",
        "  L[i] = list[l + i]\n",
        " for j in range(0 , n2):\n",
        "  R[j] = list[m + 1 + j]\n",
        " i = 0\n",
        " j = 0\n",
        " k = l\n",
        " while i < n1 and j < n2 :\n",
        "  if L[i] <= R[j]:\n",
        "    list[k] = L[i]\n",
        "    i+= 1\n",
        "  else:\n",
        "    list[k] = R[j]\n",
        "    j+= 1\n",
        "    k+= 1\n",
        "  while i < n1:\n",
        "    list[k] = L[i]\n",
        "    i+= 1\n",
        "    k+= 1\n",
        "  while j < n2:\n",
        "    list[k] = R[j]\n",
        "    j+= 1\n",
        "    k+= 1\n",
        " return list\n",
        "def mergesort(list, l, r):\n",
        " if l < r:\n",
        "  m = (l + (r-1) )//2\n",
        "  mergesort(list,l,m)\n",
        "  mergesort(list, m+1, r)\n",
        "  merge(list,l, m,r)\n",
        " return list\n",
        "L = [14,55,66,1,2,11,23,30]\n",
        "print(L)\n",
        "print(\"sorted list: \", mergesort(L,0,len(L)-1))"
      ],
      "execution_count": 17,
      "outputs": [
        {
          "output_type": "stream",
          "text": [
            "[14, 55, 66, 1, 2, 11, 23, 30]\n",
            "sorted list:  [55, 55, 66, 11, 30, 30, 30, 30]\n"
          ],
          "name": "stdout"
        }
      ]
    },
    {
      "cell_type": "code",
      "metadata": {
        "colab": {
          "base_uri": "https://localhost:8080/"
        },
        "id": "on0cZGM9KA5B",
        "outputId": "48bd23ad-59c2-4f60-960e-edd489e16b58"
      },
      "source": [
        "# Function to display hashtable\n",
        "def display_hash(hashTable):\n",
        "\t\n",
        "\tfor i in range(len(hashTable)):\n",
        "\t\tprint(i, end = \" \")\n",
        "\t\t\n",
        "\t\tfor j in hashTable[i]:\n",
        "\t\t\tprint(\"-->\", end = \" \")\n",
        "\t\t\tprint(j, end = \" \")\n",
        "\t\t\t\n",
        "\t\tprint()\n",
        "\n",
        "# Creating Hashtable as\n",
        "# a nested list.\n",
        "HashTable = [[] for _ in range(10)]\n",
        "\n",
        "# Hashing Function to return\n",
        "# key for every value.\n",
        "def Hashing(keyvalue):\n",
        "\treturn keyvalue % len(HashTable)\n",
        "\n",
        "\n",
        "# Insert Function to add\n",
        "# values to the hash table\n",
        "def insert(Hashtable, keyvalue, value):\n",
        "\t\n",
        "\thash_key = Hashing(keyvalue)\n",
        "\tHashtable[hash_key].append(value)\n",
        "\n",
        "insert(HashTable, 10, 'Fazila')\n",
        "insert(HashTable, 25, 'Urvashi')\n",
        "insert(HashTable, 20, 'Urmila')\n",
        "insert(HashTable, 9, 'Sonal')\n",
        "insert(HashTable, 21, 'Hena')\n",
        "insert(HashTable, 21, 'Niraj')\n",
        "display_hash (HashTable)"
      ],
      "execution_count": 23,
      "outputs": [
        {
          "output_type": "stream",
          "text": [
            "0 --> Fazila --> Urmila \n",
            "1 --> Hena --> Niraj \n",
            "2 \n",
            "3 \n",
            "4 \n",
            "5 --> Urvashi \n",
            "6 \n",
            "7 \n",
            "8 \n",
            "9 --> Sonal \n"
          ],
          "name": "stdout"
        }
      ]
    }
  ]
}