{
  "nbformat": 4,
  "nbformat_minor": 0,
  "metadata": {
    "colab": {
      "name": "PRAC3.ipynb",
      "provenance": [],
      "collapsed_sections": [],
      "authorship_tag": "ABX9TyN+xlEF0qw4A6vbWDa0Q6xa",
      "include_colab_link": true
    },
    "kernelspec": {
      "name": "python3",
      "display_name": "Python 3"
    }
  },
  "cells": [
    {
      "cell_type": "markdown",
      "metadata": {
        "id": "view-in-github",
        "colab_type": "text"
      },
      "source": [
        "<a href=\"https://colab.research.google.com/github/hena1019/GTU-FINAL-YEAR-COMPUTER-SCIENCE-PYTHON-PRACTICALS/blob/main/PRAC3.ipynb\" target=\"_parent\"><img src=\"https://colab.research.google.com/assets/colab-badge.svg\" alt=\"Open In Colab\"/></a>"
      ]
    },
    {
      "cell_type": "code",
      "metadata": {
        "colab": {
          "base_uri": "https://localhost:8080/"
        },
        "id": "TRXhsGAtJtvn",
        "outputId": "c13f020f-d307-4309-c346-d44e331ffce0"
      },
      "source": [
        "def removeduplicate(A):\n",
        "   newlist = []\n",
        "   for n in A:\n",
        "      if n not in newlist:\n",
        "         newlist.append(n)\n",
        "   return newlist\n",
        "A=list()\n",
        "n=int(input(\"Enter the size of the List ::\"))\n",
        "print(\"Enter the number ::\")\n",
        "for i in range(int(n)):\n",
        "   k=int(input(\"\"))\n",
        "   A.append(int(k))\n",
        "print(\"THE NEW LIST IS ::>\",removeduplicate(A))"
      ],
      "execution_count": null,
      "outputs": [
        {
          "output_type": "stream",
          "text": [
            "Enter the size of the List ::6\n",
            "Enter the number ::\n",
            "1\n",
            "2\n",
            "21\n",
            "21\n",
            "1\n",
            "21\n",
            "THE NEW LIST IS ::> [1, 2, 21]\n"
          ],
          "name": "stdout"
        }
      ]
    },
    {
      "cell_type": "code",
      "metadata": {
        "colab": {
          "base_uri": "https://localhost:8080/"
        },
        "id": "6KLw32KnLu9h",
        "outputId": "1ca6d9af-7d51-4f46-e33d-ab4a0110d55c"
      },
      "source": [
        "def frequency_of_items_in_list(l): \n",
        "    d={} \n",
        "    for i in l: \n",
        "        c=l.count(i) \n",
        "        d[i]=c \n",
        "    return d \n",
        " \n",
        "n=int(input(\"Enter the size of your desired list: \")) \n",
        "l=[]\n",
        "print(\"Enter the number :\") \n",
        "for i in range(n): \n",
        "    x=int(input(\"\")) \n",
        "    l.append(x) \n",
        "print(\"\\nThe list entered by the user is\",l) \n",
        "print() \n",
        "s=frequency_of_items_in_list(l) \n",
        "for k,v in s.items(): \n",
        "    print(k,\" appeared \",v,\"times\") \n"
      ],
      "execution_count": null,
      "outputs": [
        {
          "output_type": "stream",
          "text": [
            "Enter the size of your desired list: 8\n",
            "Enter the number :\n",
            "1\n",
            "6\n",
            "8\n",
            "8\n",
            "8\n",
            "6\n",
            "1\n",
            "1\n",
            "\n",
            "The list entered by the user is [1, 6, 8, 8, 8, 6, 1, 1]\n",
            "\n",
            "1  appeared  3 times\n",
            "6  appeared  2 times\n",
            "8  appeared  3 times\n"
          ],
          "name": "stdout"
        }
      ]
    },
    {
      "cell_type": "code",
      "metadata": {
        "colab": {
          "base_uri": "https://localhost:8080/"
        },
        "id": "B-x6eAd5MaaU",
        "outputId": "4dc6a64f-13d5-4754-a225-71031d1ad062"
      },
      "source": [
        "NumList = []\n",
        "\n",
        "Number = int(input(\"Please enter the Total Number of List Elements: \"))\n",
        "print(\"Enter the number :\")\n",
        "for i in range(1, Number + 1):\n",
        "    value = int(input(\"\"))\n",
        "    NumList.append(value)\n",
        "\n",
        "for i in range (Number):\n",
        "    for j in range(i + 1, Number):\n",
        "        if(NumList[i] > NumList[j]):\n",
        "            temp = NumList[i]\n",
        "            NumList[i] = NumList[j]\n",
        "            NumList[j] = temp\n",
        "\n",
        "print(\"Element After Sorting List in Ascending Order is : \", NumList)"
      ],
      "execution_count": null,
      "outputs": [
        {
          "output_type": "stream",
          "text": [
            "Please enter the Total Number of List Elements: 9\n",
            "Enter the number :\n",
            "23\n",
            "45\n",
            "36\n",
            "27\n",
            "98\n",
            "12\n",
            "56\n",
            "78\n",
            "85\n",
            "Element After Sorting List in Ascending Order is :  [12, 23, 27, 36, 45, 56, 78, 85, 98]\n"
          ],
          "name": "stdout"
        }
      ]
    },
    {
      "cell_type": "code",
      "metadata": {
        "colab": {
          "base_uri": "https://localhost:8080/"
        },
        "id": "AUw8Wk9nNN9c",
        "outputId": "8783bbec-c86d-4760-dd3e-f9a896f4d16a"
      },
      "source": [
        "import numpy as np \n",
        "print(\"Enter values of matrix 1\")\n",
        "R = int(input(\"Enter the number of rows:\")) \n",
        "C = int(input(\"Enter the number of columns:\")) \n",
        "print(\"Enter the entries in a single line (separated by space): \") \n",
        "# User input of entries in a \n",
        "# single line separated by space \n",
        "entries = list(map(int, input().split())) \n",
        "# For printing the matrix \n",
        "X = np.array(entries).reshape(R, C) \n",
        "print(X) \n",
        "\n",
        "print(\"\\nEnter values of matrix 2\")\n",
        "A = int(input(\"Enter the number of rows:\")) \n",
        "B = int(input(\"Enter the number of columns:\")) \n",
        "print(\"Enter the entries in a single line (separated by space): \") \n",
        "# User input of entries in a \n",
        "# single line separated by space \n",
        "entries = list(map(int, input().split())) \n",
        "# For printing the matrix \n",
        "Y = np.array(entries).reshape(A, B) \n",
        "print(Y)\n",
        "\n",
        "#MATRIX ADDITION\n",
        "result = [[X[i][j] + Y[i][j] for j in range\n",
        "(len(X[0]))] for i in range(len(X))]\n",
        "print(\"\\nMATRIX ADDITION\") \n",
        "for r in result: \n",
        "\tprint(r)\n",
        "\n",
        "#MATRIX MULTIPLICATION\n",
        "print(\"\\n MATRIX MULTIPLICATION\")\n",
        "res = np.dot(X,Y)\n",
        "print(res)"
      ],
      "execution_count": null,
      "outputs": [
        {
          "output_type": "stream",
          "text": [
            "Enter values of matrix 1\n",
            "Enter the number of rows:2\n",
            "Enter the number of columns:2\n",
            "Enter the entries in a single line (separated by space): \n",
            "1 2 3 4\n",
            "[[1 2]\n",
            " [3 4]]\n",
            "\n",
            "Enter values of matrix 2\n",
            "Enter the number of rows:2\n",
            "Enter the number of columns:2\n",
            "Enter the entries in a single line (separated by space): \n",
            "1 2 3 4\n",
            "[[1 2]\n",
            " [3 4]]\n",
            "\n",
            "MATRIX ADDITION\n",
            "[\n",
            "[2, 4]\n",
            "[6, 8]\n",
            "]\n",
            "\n",
            " MATRIX MULTIPLICATION\n",
            "[[ 7 10]\n",
            " [15 22]]\n"
          ],
          "name": "stdout"
        }
      ]
    },
    {
      "cell_type": "code",
      "metadata": {
        "colab": {
          "base_uri": "https://localhost:8080/"
        },
        "id": "VJd8SvDOO7Uy",
        "outputId": "97e1511b-1a74-4935-df7a-2c27e0cc70ee"
      },
      "source": [
        "n=int(input(\"Enter number of rows: \"))\n",
        "a=[]\n",
        "for i in range(n):\n",
        "    a.append([])\n",
        "    a[i].append(1)\n",
        "    for j in range(1,i):\n",
        "        a[i].append(a[i-1][j-1]+a[i-1][j])\n",
        "    if(n!=0):\n",
        "        a[i].append(1)\n",
        "for i in range(n):\n",
        "    print(\"   \"*(n-i),end=\" \",sep=\" \")\n",
        "    for j in range(0,i+1):\n",
        "        print('{0:6}'.format(a[i][j]),end=\" \",sep=\" \")\n",
        "    print()"
      ],
      "execution_count": null,
      "outputs": [
        {
          "output_type": "stream",
          "text": [
            "Enter number of rows: 5\n",
            "                     1 \n",
            "                  1      1 \n",
            "               1      2      1 \n",
            "            1      3      3      1 \n",
            "         1      4      6      4      1 \n"
          ],
          "name": "stdout"
        }
      ]
    },
    {
      "cell_type": "code",
      "metadata": {
        "colab": {
          "base_uri": "https://localhost:8080/"
        },
        "id": "cblpXtZzPBo3",
        "outputId": "4ce7aab1-11d7-4d1d-bd92-ee8f3bfef593"
      },
      "source": [
        "tpl = (1,2,3,4,5,6,7,8,9,10)\n",
        "tpl1 = tuple(filter(lambda x : x%2==0,tpl))  \n",
        "print(tpl1)"
      ],
      "execution_count": null,
      "outputs": [
        {
          "output_type": "stream",
          "text": [
            "(2, 4, 6, 8, 10)\n"
          ],
          "name": "stdout"
        }
      ]
    },
    {
      "cell_type": "code",
      "metadata": {
        "colab": {
          "base_uri": "https://localhost:8080/"
        },
        "id": "pTjyCwUZb3WB",
        "outputId": "d8c49c63-e6a6-40a2-a06f-33086e82e852"
      },
      "source": [
        "# creating an empty list\n",
        "lst = []\n",
        "# number of elemetns as input\n",
        "n = int(input(\"Enter number of elements : \"))\n",
        "# iterating till the range\n",
        "for i in range(0, n):\n",
        "  ele = (input())\n",
        "  lst.append(ele) # adding the element\n",
        "  tupl=tuple(lst) #converting list into tuple\n",
        "print(tupl) #print tuple\n",
        "\n",
        "a = int(input(\"Enter the place of the element you want to remove : \"))\n",
        "tupl = tupl[ : a ] + tupl[a+1 : ]\n",
        "print(tupl)"
      ],
      "execution_count": null,
      "outputs": [
        {
          "output_type": "stream",
          "text": [
            "Enter number of elements : 5\n",
            "1\n",
            "2\n",
            "3\n",
            "abcdgjj\n",
            "4\n",
            "('1', '2', '3', 'abcdgjj', '4')\n",
            "Enter the place of the element you want to remove : 3\n",
            "('1', '2', '3', '4')\n"
          ],
          "name": "stdout"
        }
      ]
    }
  ]
}