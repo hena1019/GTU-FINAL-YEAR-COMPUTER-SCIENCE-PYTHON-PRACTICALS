{
  "nbformat": 4,
  "nbformat_minor": 0,
  "metadata": {
    "colab": {
      "name": "PRAC2.ipynb",
      "provenance": [],
      "authorship_tag": "ABX9TyMrBqDGbG8wu44zFZ+MUaeH",
      "include_colab_link": true
    },
    "kernelspec": {
      "name": "python3",
      "display_name": "Python 3"
    }
  },
  "cells": [
    {
      "cell_type": "markdown",
      "metadata": {
        "id": "view-in-github",
        "colab_type": "text"
      },
      "source": [
        "<a href=\"https://colab.research.google.com/github/hena1019/GTU-FINAL-YEAR-COMPUTER-SCIENCE-PYTHON-PRACTICALS/blob/main/PRAC2.ipynb\" target=\"_parent\"><img src=\"https://colab.research.google.com/assets/colab-badge.svg\" alt=\"Open In Colab\"/></a>"
      ]
    },
    {
      "cell_type": "code",
      "metadata": {
        "colab": {
          "base_uri": "https://localhost:8080/"
        },
        "id": "CEjezdQQrPTo",
        "outputId": "3cfa4b47-ffc0-4a22-f058-c32740f0c93b"
      },
      "source": [
        "#USING RECURSION\n",
        "# Python 3 program to find \n",
        "# factorial of given number \n",
        "def factorial(n): \n",
        "\t\n",
        "\t# single line to find factorial \n",
        "\treturn 1 if (n==1 or n==0) else n * factorial(n - 1)\n",
        "\n",
        "# Driver Code \n",
        "num=int(input(\"Enter a number: \")) \n",
        "print(\"Factorial of\",num,\"is\",factorial(num),\"using recursive method.\") "
      ],
      "execution_count": null,
      "outputs": [
        {
          "output_type": "stream",
          "text": [
            "Enter a number: 5\n",
            "Factorial of 5 is 120 using recursive method.\n"
          ],
          "name": "stdout"
        }
      ]
    },
    {
      "cell_type": "code",
      "metadata": {
        "colab": {
          "base_uri": "https://localhost:8080/"
        },
        "id": "SZXk-wXcuK1E",
        "outputId": "c3fafacb-aa8f-49de-e95f-63a5b8e44f79"
      },
      "source": [
        "#USING ITERATIVE\n",
        "# Python 3 program to find \n",
        "# factorial of given number \n",
        "def factorial(n): \n",
        "\tif n < 0: \n",
        "\t\treturn 0\n",
        "\telif n == 0 or n == 1: \n",
        "\t\treturn 1\n",
        "\telse: \n",
        "\t\tfact = 1\n",
        "\t\twhile(n > 1): \n",
        "\t\t\tfact *= n \n",
        "\t\t\tn -= 1\n",
        "\t\treturn fact \n",
        "\n",
        "# Driver Code \n",
        "num=int(input(\"Enter a number: \")) \n",
        "print(\"Factorial of\",num,\"is\",factorial(num),\"using iteration method.\")  "
      ],
      "execution_count": null,
      "outputs": [
        {
          "output_type": "stream",
          "text": [
            "Enter a number: 6\n",
            "Factorial of 6 is 720 using iterartion method.\n"
          ],
          "name": "stdout"
        }
      ]
    },
    {
      "cell_type": "code",
      "metadata": {
        "colab": {
          "base_uri": "https://localhost:8080/"
        },
        "id": "PYaBnyrluV__",
        "outputId": "0266bb9b-21e0-4142-f7bd-d9bbd818b641"
      },
      "source": [
        "upper=lower=spaces=d=l=0\n",
        "str=input(\"Enter a string: \")\n",
        "#for lower and upper case\n",
        "for i in range(len(str)):\n",
        "      if(str[i]>='a' and str[i]<='z'):\n",
        "          lower+=1\n",
        "      elif(str[i]>='A' and str[i]<='Z'):\n",
        "          upper+=1\n",
        "\n",
        "#for letters and digits\n",
        "for c in str:\n",
        "    if c.isdigit():\n",
        "        d=d+1\n",
        "    elif c.isalpha():\n",
        "        l=l+1\n",
        "    else:\n",
        "        pass\n",
        "\n",
        "#for spaces\n",
        "for i in str:\n",
        "  if i == \" \":\n",
        "    spaces += 1\t\n",
        "\n",
        "print('Lower case letters= ',lower)\n",
        "print('Upper case letters=' ,upper)\n",
        "print(\"Letters= \", l)\n",
        "print(\"Digits= \", d)\n",
        "print(\"Spaces= \", spaces)"
      ],
      "execution_count": null,
      "outputs": [
        {
          "output_type": "stream",
          "text": [
            "Enter a string: PYthon Prog to Count 12345\n",
            "Lower case letters=  13\n",
            "Upper case letters= 4\n",
            "Letters=  17\n",
            "Digits=  5\n",
            "Spaces=  4\n"
          ],
          "name": "stdout"
        }
      ]
    },
    {
      "cell_type": "code",
      "metadata": {
        "colab": {
          "base_uri": "https://localhost:8080/"
        },
        "id": "zPLmQXg-x4cy",
        "outputId": "6d4d5d13-a621-46f6-cdea-a4c96d7f6fb9"
      },
      "source": [
        "# Python Program to find GCD of Two Numbers using While loop\n",
        "a = int(input(\"Enter 1st number: \"))\n",
        "b = int(input(\"Enter 2nd number: \"))\n",
        "i = 1\n",
        "while(i <= a and i <= b):\n",
        "  if(a % i == 0 and b % i == 0):\n",
        "    gcd = i\n",
        "  i = i + 1\n",
        "print(\"GCD is\", gcd)"
      ],
      "execution_count": null,
      "outputs": [
        {
          "output_type": "stream",
          "text": [
            "Enter 1st number: 54\n",
            "Enter 2nd number: 24\n",
            "GCD is 6\n"
          ],
          "name": "stdout"
        }
      ]
    },
    {
      "cell_type": "code",
      "metadata": {
        "colab": {
          "base_uri": "https://localhost:8080/"
        },
        "id": "v6ex3k76yifV",
        "outputId": "29bdeb1e-230a-4eea-a80c-6cc36f28313c"
      },
      "source": [
        "dec = int(input(\"Enter a decimal number: \"))   \n",
        "print(bin(dec),\"in binary.\")  \n",
        "print(oct(dec),\"in octal.\")  \n",
        "print(hex(dec),\"in hexadecimal.\") "
      ],
      "execution_count": null,
      "outputs": [
        {
          "output_type": "stream",
          "text": [
            "Enter a decimal number: 24\n",
            "0b11000 in binary.\n",
            "0o30 in octal.\n",
            "0x18 in hexadecimal.\n"
          ],
          "name": "stdout"
        }
      ]
    }
  ]
}