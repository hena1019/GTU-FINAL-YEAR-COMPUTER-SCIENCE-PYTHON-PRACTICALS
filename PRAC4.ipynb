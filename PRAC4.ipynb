{
  "nbformat": 4,
  "nbformat_minor": 0,
  "metadata": {
    "colab": {
      "name": "PRAC4.ipynb",
      "provenance": [],
      "collapsed_sections": [],
      "authorship_tag": "ABX9TyPdYlcA7BKbt+73WDoEIswF",
      "include_colab_link": true
    },
    "kernelspec": {
      "name": "python3",
      "display_name": "Python 3"
    }
  },
  "cells": [
    {
      "cell_type": "markdown",
      "metadata": {
        "id": "view-in-github",
        "colab_type": "text"
      },
      "source": [
        "<a href=\"https://colab.research.google.com/github/hena1019/GTU-FINAL-YEAR-COMPUTER-SCIENCE-PYTHON-PRACTICALS/blob/main/PRAC4.ipynb\" target=\"_parent\"><img src=\"https://colab.research.google.com/assets/colab-badge.svg\" alt=\"Open In Colab\"/></a>"
      ]
    },
    {
      "cell_type": "code",
      "metadata": {
        "colab": {
          "base_uri": "https://localhost:8080/"
        },
        "id": "ANj9j8Avy-hw",
        "outputId": "3244093b-188b-440a-b6ca-f7cb871315c4"
      },
      "source": [
        "# Python3 code to demonstrate \n",
        "# conversion of lists to dictionary \n",
        "# using naive method \n",
        "\n",
        "# initializing lists \n",
        "test_keys = [\"Hena\", \"Sonal\", \"Fazila\"] \n",
        "test_values = [1, 4, 5] \n",
        "\n",
        "# Printing original keys-value lists \n",
        "print (\"Original key list is : \" + str(test_keys)) \n",
        "print (\"Original value list is : \" + str(test_values)) \n",
        "\n",
        "# using naive method \n",
        "# to convert lists to dictionary \n",
        "res = {} \n",
        "for key in test_keys: \n",
        "\tfor value in test_values: \n",
        "\t\tres[key] = value \n",
        "\t\ttest_values.remove(value) \n",
        "\t\tbreak\n",
        "\n",
        "# Printing resultant dictionary \n",
        "print (\"Resultant dictionary is : \" + str(res)) \n"
      ],
      "execution_count": 1,
      "outputs": [
        {
          "output_type": "stream",
          "text": [
            "Original key list is : ['Hena', 'Sonal', 'Fazila']\n",
            "Original value list is : [1, 4, 5]\n",
            "Resultant dictionary is : {'Hena': 1, 'Sonal': 4, 'Fazila': 5}\n"
          ],
          "name": "stdout"
        }
      ]
    },
    {
      "cell_type": "code",
      "metadata": {
        "colab": {
          "base_uri": "https://localhost:8080/"
        },
        "id": "bINcE9Y-2VhQ",
        "outputId": "2d35aae9-bb2e-4d86-b120-b9fa8c0d00cc"
      },
      "source": [
        "# Python code to demonstrate \n",
        "# how to invert mapping \n",
        "# using zip and dict functions \n",
        "\n",
        "# initialising dictionary \n",
        "ini_dict = {101: \"Urmila\", 201 : \"Urvashi\"} \n",
        "\n",
        "# print initial dictionary \n",
        "print(\"initial dictionary : \", str(ini_dict)) \n",
        "\n",
        "# inverse mapping using zip and dict functions \n",
        "inv_dict = dict(zip(ini_dict.values(), ini_dict.keys())) \n",
        "\n",
        "# print final dictionary \n",
        "print(\"inverse mapped dictionary : \", str(inv_dict)) \n"
      ],
      "execution_count": 2,
      "outputs": [
        {
          "output_type": "stream",
          "text": [
            "initial dictionary :  {101: 'Urmila', 201: 'Urvashi'}\n",
            "inverse mapped dictionary :  {'Urmila': 101, 'Urvashi': 201}\n"
          ],
          "name": "stdout"
        }
      ]
    },
    {
      "cell_type": "code",
      "metadata": {
        "colab": {
          "base_uri": "https://localhost:8080/"
        },
        "id": "E7QIVJve_lLU",
        "outputId": "c3653fd7-3399-488e-cf25-46818b0483a2"
      },
      "source": [
        "# Python3 code to demonstrate \n",
        "# each occurrence frequency using \n",
        "# naive method \n",
        "\n",
        "# initializing string \n",
        "test_str = \"abcdabefgceb\"\n",
        "\n",
        "# using naive method to get count \n",
        "# of each element in string \n",
        "all_freq = {} \n",
        "\n",
        "for i in test_str: \n",
        "\tif i in all_freq: \n",
        "\t\tall_freq[i] += 1\n",
        "\telse: \n",
        "\t\tall_freq[i] = 1\n",
        "\n",
        "# printing result \n",
        "print (\"Count of all characters in abcdabefgceb is :\\n \"\n",
        "\t\t\t\t\t\t\t\t\t\t+ str(all_freq)) \n"
      ],
      "execution_count": null,
      "outputs": [
        {
          "output_type": "stream",
          "text": [
            "Count of all characters in abcdabefgceb is :\n",
            " {'a': 2, 'b': 3, 'c': 2, 'd': 1, 'e': 2, 'f': 1, 'g': 1}\n"
          ],
          "name": "stdout"
        }
      ]
    },
    {
      "cell_type": "code",
      "metadata": {
        "colab": {
          "base_uri": "https://localhost:8080/"
        },
        "id": "us1Uj56YAObn",
        "outputId": "11c634aa-91db-4e28-82b3-599aad3ba8cf"
      },
      "source": [
        "n = int(input(\"Enter number of students: \")) \n",
        " \n",
        "result = {} \n",
        " \n",
        "for i in range(n): \n",
        "    print(\"Enter Details of student No.\", i+1) \n",
        " \n",
        "    rno = int(input(\"Roll No: \")) \n",
        "    name = input(\"Name: \") \n",
        "    marks = int(input(\"Marks: \")) \n",
        " \n",
        "    result[rno] = [name, marks] \n",
        " \n",
        "print(result) \n",
        " \n",
        "# Display names of students who have got marks more than 75 \n",
        " \n",
        "for student in result: \n",
        "    if result[student][1] > 75: \n",
        "        print(result[student][0]) \n"
      ],
      "execution_count": null,
      "outputs": [
        {
          "output_type": "stream",
          "text": [
            "Enter number of students: 2\n",
            "Enter Details of student No. 1\n",
            "Roll No: 170630107009\n",
            "Name: hena chauhan\n",
            "Marks: 99\n",
            "Enter Details of student No. 2\n",
            "Roll No: 170630107002\n",
            "Name: sonal agrawal\n",
            "Marks: 98\n",
            "{170630107009: ['hena chauhan', 99], 170630107002: ['sonal agrawal', 98]}\n",
            "hena chauhan\n",
            "sonal agrawal\n"
          ],
          "name": "stdout"
        }
      ]
    },
    {
      "cell_type": "code",
      "metadata": {
        "colab": {
          "base_uri": "https://localhost:8080/"
        },
        "id": "O93qAPaPBiwg",
        "outputId": "65c7639e-94f6-490f-b52a-5ba2739f32d1"
      },
      "source": [
        "\n"
      ],
      "execution_count": 1,
      "outputs": [
        {
          "output_type": "stream",
          "text": [
            "-----Program for Student Information-----\n",
            "How many student record you want to store?? 5\n",
            "Enter the complete name (First and last name) of student: Hena Chauhan\n",
            "Enter Age: 21\n",
            "Enter CPI: 9.4\n",
            "Enter the complete name (First and last name) of student: Urvashi Goklani\n",
            "Enter Age: 21\n",
            "Enter CPI: 9.35\n",
            "Enter the complete name (First and last name) of student: Sonal Agrawal\n",
            "Enter Age: 22\n",
            "Enter CPI: 9.3\n",
            "Enter the complete name (First and last name) of student: Fazila Pathan\n",
            "Enter Age: 21\n",
            "Enter CPI: 9.35\n",
            "Enter the complete name (First and last name) of student: Urmila Goklani\n",
            "Enter Age: 21\n",
            "Enter CPI: 9.3\n",
            "Enter the operation detail: \n",
            " 1: Sorting using first name \n",
            " 2: Finding maximum marks \n",
            " 3: Search details using first name: \n",
            " 4: Exit\n",
            " Option: 1\n",
            "Fazila Pathan\n",
            "Hena Chauhan\n",
            "Sonal Agrawal\n",
            "Urmila Goklani\n",
            "Urvashi Goklani\n",
            "Want to perform some other operation??? Y or N: \n",
            "Y\n",
            "Enter the operation detail: \n",
            " 1: Sorting using first name \n",
            " 2: Finding maximum marks \n",
            " 3: Search details using first name: \n",
            " 4: Exit\n",
            " Option: 2\n",
            "Highest CPI:  9.4\n",
            "Want to perform some other operation??? Y or N: \n",
            "Y\n",
            "Enter the operation detail: \n",
            " 1: Sorting using first name \n",
            " 2: Finding maximum marks \n",
            " 3: Search details using first name: \n",
            " 4: Exit\n",
            " Option: 3\n",
            "Enter first name of student: Hena\n",
            "21\n",
            "Want to perform some other operation??? Y or N: \n",
            "N\n"
          ],
          "name": "stdout"
        }
      ]
    }
  ]
}