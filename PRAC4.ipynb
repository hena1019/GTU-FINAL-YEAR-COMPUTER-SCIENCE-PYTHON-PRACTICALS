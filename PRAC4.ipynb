{
  "nbformat": 4,
  "nbformat_minor": 0,
  "metadata": {
    "colab": {
      "name": "PRAC4.ipynb",
      "provenance": [],
      "collapsed_sections": [],
      "authorship_tag": "ABX9TyPjJ4/z4iY05PFrsb7rqGsn",
      "include_colab_link": true
    },
    "kernelspec": {
      "name": "python3",
      "display_name": "Python 3"
    }
  },
  "cells": [
    {
      "cell_type": "markdown",
      "metadata": {
        "id": "view-in-github",
        "colab_type": "text"
      },
      "source": [
        "<a href=\"https://colab.research.google.com/github/hena1019/GTU-FINAL-YEAR-COMPUTER-SCIENCE-PYTHON-PRACTICALS/blob/main/PRAC4.ipynb\" target=\"_parent\"><img src=\"https://colab.research.google.com/assets/colab-badge.svg\" alt=\"Open In Colab\"/></a>"
      ]
    },
    {
      "cell_type": "code",
      "metadata": {
        "colab": {
          "base_uri": "https://localhost:8080/"
        },
        "id": "ANj9j8Avy-hw",
        "outputId": "3244093b-188b-440a-b6ca-f7cb871315c4"
      },
      "source": [
        "# Python3 code to demonstrate \n",
        "# conversion of lists to dictionary \n",
        "# using naive method \n",
        "\n",
        "# initializing lists \n",
        "test_keys = [\"Hena\", \"Sonal\", \"Fazila\"] \n",
        "test_values = [1, 4, 5] \n",
        "\n",
        "# Printing original keys-value lists \n",
        "print (\"Original key list is : \" + str(test_keys)) \n",
        "print (\"Original value list is : \" + str(test_values)) \n",
        "\n",
        "# using naive method \n",
        "# to convert lists to dictionary \n",
        "res = {} \n",
        "for key in test_keys: \n",
        "\tfor value in test_values: \n",
        "\t\tres[key] = value \n",
        "\t\ttest_values.remove(value) \n",
        "\t\tbreak\n",
        "\n",
        "# Printing resultant dictionary \n",
        "print (\"Resultant dictionary is : \" + str(res)) \n"
      ],
      "execution_count": null,
      "outputs": [
        {
          "output_type": "stream",
          "text": [
            "Original key list is : ['Hena', 'Sonal', 'Fazila']\n",
            "Original value list is : [1, 4, 5]\n",
            "Resultant dictionary is : {'Hena': 1, 'Sonal': 4, 'Fazila': 5}\n"
          ],
          "name": "stdout"
        }
      ]
    },
    {
      "cell_type": "code",
      "metadata": {
        "colab": {
          "base_uri": "https://localhost:8080/"
        },
        "id": "bINcE9Y-2VhQ",
        "outputId": "2d35aae9-bb2e-4d86-b120-b9fa8c0d00cc"
      },
      "source": [
        "# Python code to demonstrate \n",
        "# how to invert mapping \n",
        "# using zip and dict functions \n",
        "\n",
        "# initialising dictionary \n",
        "ini_dict = {101: \"Urmila\", 201 : \"Urvashi\"} \n",
        "\n",
        "# print initial dictionary \n",
        "print(\"initial dictionary : \", str(ini_dict)) \n",
        "\n",
        "# inverse mapping using zip and dict functions \n",
        "inv_dict = dict(zip(ini_dict.values(), ini_dict.keys())) \n",
        "\n",
        "# print final dictionary \n",
        "print(\"inverse mapped dictionary : \", str(inv_dict)) \n"
      ],
      "execution_count": null,
      "outputs": [
        {
          "output_type": "stream",
          "text": [
            "initial dictionary :  {101: 'Urmila', 201: 'Urvashi'}\n",
            "inverse mapped dictionary :  {'Urmila': 101, 'Urvashi': 201}\n"
          ],
          "name": "stdout"
        }
      ]
    },
    {
      "cell_type": "code",
      "metadata": {
        "colab": {
          "base_uri": "https://localhost:8080/"
        },
        "id": "E7QIVJve_lLU",
        "outputId": "c3653fd7-3399-488e-cf25-46818b0483a2"
      },
      "source": [
        "# Python3 code to demonstrate \n",
        "# each occurrence frequency using \n",
        "# naive method \n",
        "\n",
        "# initializing string \n",
        "test_str = \"abcdabefgceb\"\n",
        "\n",
        "# using naive method to get count \n",
        "# of each element in string \n",
        "all_freq = {} \n",
        "\n",
        "for i in test_str: \n",
        "\tif i in all_freq: \n",
        "\t\tall_freq[i] += 1\n",
        "\telse: \n",
        "\t\tall_freq[i] = 1\n",
        "\n",
        "# printing result \n",
        "print (\"Count of all characters in abcdabefgceb is :\\n \"\n",
        "\t\t\t\t\t\t\t\t\t\t+ str(all_freq)) \n"
      ],
      "execution_count": null,
      "outputs": [
        {
          "output_type": "stream",
          "text": [
            "Count of all characters in abcdabefgceb is :\n",
            " {'a': 2, 'b': 3, 'c': 2, 'd': 1, 'e': 2, 'f': 1, 'g': 1}\n"
          ],
          "name": "stdout"
        }
      ]
    },
    {
      "cell_type": "code",
      "metadata": {
        "colab": {
          "base_uri": "https://localhost:8080/"
        },
        "id": "us1Uj56YAObn",
        "outputId": "918fee74-1994-45a2-8b15-8e88e5faf253"
      },
      "source": [
        "D = dict()\n",
        "n = int(input('How many student record you want to store?? '))\n",
        "for i in range(0,n):\n",
        " x, y = input(\"Enter the complete name (First and last name) of student: \").split()\n",
        " z = input(\"enter age: \")\n",
        " m = input('Enter cpi: ')\n",
        " D[x, y] = (z, m)\n",
        "def sort():\n",
        " ls = list()\n",
        " for sname,details in D.items():\n",
        "  tup = (sname[0],sname[1])\n",
        "  ls.append(tup)\n",
        "  ls = sorted(ls)\n",
        "  for i in ls:\n",
        "    print(i[0],i[1])\n",
        "    return\n",
        "def maxmarks():\n",
        " ls = list()\n",
        " for sname,details in D.items():\n",
        "  ls.append(details[1])\n",
        " ls = sorted(ls)\n",
        " print(\"maximum marks: \", max(ls))\n",
        " return\n",
        "def searchdetail(fname):\n",
        " ls = list()\n",
        " for sname,details in D.items():\n",
        "  tup=(sname,details)\n",
        "  ls.append(tup)\n",
        " for i in ls:\n",
        "  if i[0][0] == fname:\n",
        "    print(i[1][0])\n",
        " return\n",
        "def option():\n",
        " choice = int(input('Enter the operation detail: \\n \\\n",
        "1: Sorting using first name \\n \\\n",
        "2: Finding maximum marks \\n \\\n",
        "3: Search details using first name: \\n \\\n",
        "4: Exit\\n \\\n",
        "Option: '))\n",
        " if choice == 1:\n",
        "  sort()\n",
        "  print('Want to perform some other operation??? Y or N: ')\n",
        "  inp = input()\n",
        "  if inp == 'Y':\n",
        "    option()\n",
        "  exit()\n",
        " elif choice == 2:\n",
        "  maxmarks()\n",
        "  print('Want to perform some other operation??? Y or N: ')\n",
        "  inp = input()\n",
        "  if inp == 'Y':\n",
        "    option()\n",
        "  exit()\n",
        " elif choice == 3:\n",
        "  first = input('Enter first name of student: ')\n",
        "  searchdetail(first)\n",
        "  print('Want to perform some other operation??? Y or N: ')\n",
        "  inp = input()\n",
        "  if inp == 'Y':\n",
        "    option()\n",
        "  exit()\n",
        " else:\n",
        "   print('Exit')\n",
        " exit()\n",
        "option()"
      ],
      "execution_count": 3,
      "outputs": [
        {
          "output_type": "stream",
          "text": [
            "How many student record you want to store?? 5\n",
            "Enter the complete name (First and last name) of student: Hena C\n",
            "enter age: 21\n",
            "Enter cpi: 9.4\n",
            "Enter the complete name (First and last name) of student: Urvashi G\n",
            "enter age: 21\n",
            "Enter cpi: 9.35\n",
            "Enter the complete name (First and last name) of student: Fazila P\n",
            "enter age: 21\n",
            "Enter cpi: 9.3\n",
            "Enter the complete name (First and last name) of student: Sonal A\n",
            "enter age: 22\n",
            "Enter cpi: 9.3\n",
            "Enter the complete name (First and last name) of student: Urmila G\n",
            "enter age: 21\n",
            "Enter cpi: 9.3\n",
            "Enter the operation detail: \n",
            " 1: Sorting using first name \n",
            " 2: Finding maximum marks \n",
            " 3: Search details using first name: \n",
            " 4: Exit\n",
            " Option: 1\n",
            "Hena C\n",
            "Want to perform some other operation??? Y or N: \n",
            "Y\n",
            "Enter the operation detail: \n",
            " 1: Sorting using first name \n",
            " 2: Finding maximum marks \n",
            " 3: Search details using first name: \n",
            " 4: Exit\n",
            " Option: 2\n",
            "maximum marks:  9.4\n",
            "Want to perform some other operation??? Y or N: \n",
            "Y\n",
            "Enter the operation detail: \n",
            " 1: Sorting using first name \n",
            " 2: Finding maximum marks \n",
            " 3: Search details using first name: \n",
            " 4: Exit\n",
            " Option: 3\n",
            "Enter first name of student: Hena\n",
            "21\n",
            "Want to perform some other operation??? Y or N: \n",
            "N\n"
          ],
          "name": "stdout"
        }
      ]
    },
    {
      "cell_type": "code",
      "metadata": {
        "id": "O93qAPaPBiwg"
      },
      "source": [
        "\n"
      ],
      "execution_count": null,
      "outputs": []
    }
  ]
}