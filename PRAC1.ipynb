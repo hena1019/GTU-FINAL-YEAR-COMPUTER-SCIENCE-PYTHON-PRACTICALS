{
  "nbformat": 4,
  "nbformat_minor": 0,
  "metadata": {
    "colab": {
      "name": "PRAC1.ipynb",
      "provenance": [],
      "authorship_tag": "ABX9TyPP07IV074muEkbnZ0b4hqg",
      "include_colab_link": true
    },
    "kernelspec": {
      "name": "python3",
      "display_name": "Python 3"
    }
  },
  "cells": [
    {
      "cell_type": "markdown",
      "metadata": {
        "id": "view-in-github",
        "colab_type": "text"
      },
      "source": [
        "<a href=\"https://colab.research.google.com/github/hena1019/GTU-FINAL-YEAR-COMPUTER-SCIENCE-PYTHON-PRACTICALS/blob/main/PRAC1.ipynb\" target=\"_parent\"><img src=\"https://colab.research.google.com/assets/colab-badge.svg\" alt=\"Open In Colab\"/></a>"
      ]
    },
    {
      "cell_type": "code",
      "metadata": {
        "colab": {
          "base_uri": "https://localhost:8080/"
        },
        "id": "SPZ-ygyPXms3",
        "outputId": "3aac4ed3-3c95-4a23-94cd-b8d9cd00cd7d"
      },
      "source": [
        "print('HelloWorld')"
      ],
      "execution_count": null,
      "outputs": [
        {
          "output_type": "stream",
          "text": [
            "HelloWorld\n"
          ],
          "name": "stdout"
        }
      ]
    },
    {
      "cell_type": "code",
      "metadata": {
        "colab": {
          "base_uri": "https://localhost:8080/"
        },
        "id": "iKqcz7D7XrPi",
        "outputId": "52d1c946-6591-4c23-b931-1c80da6955c7"
      },
      "source": [
        "# Python program showing \n",
        "# a use of input() \n",
        "\n",
        "a = input(\"Enter a: \") \n",
        "b = input(\"Enter b: \") \n",
        "c = input(\"Enter c: \") \n",
        "print(\"Value of a,b,c: \",a, b, c) \n",
        "print(\"The Maximum value: \",maximum(a, b, c)) "
      ],
      "execution_count": null,
      "outputs": [
        {
          "output_type": "stream",
          "text": [
            "Enter a: 21\n",
            "Enter b: 24\n",
            "Enter c: 50\n",
            "Value of a,b,c:  21 24 50\n",
            "The Maximum value:  50\n"
          ],
          "name": "stdout"
        }
      ]
    },
    {
      "cell_type": "code",
      "metadata": {
        "colab": {
          "base_uri": "https://localhost:8080/"
        },
        "id": "rPj-jbuKYFrP",
        "outputId": "b0ab72f5-a498-42cf-be39-8a90162f7e7a"
      },
      "source": [
        "x = input(\"Enter x: \") \n",
        "y = input(\"Enter y: \") \n",
        "print (\"Before swapping: \")\n",
        "print(\"Value of x : \", x, \" and y : \", y)\n",
        "x, y = y, x\n",
        "print (\"After swapping: \")\n",
        "print(\"Value of x : \", x, \" and y : \", y)\n"
      ],
      "execution_count": null,
      "outputs": [
        {
          "output_type": "stream",
          "text": [
            "Enter x: 23\n",
            "Enter y: 45\n",
            "Before swapping: \n",
            "Value of x :  23  and y :  45\n",
            "After swapping: \n",
            "Value of x :  45  and y :  23\n"
          ],
          "name": "stdout"
        }
      ]
    },
    {
      "cell_type": "code",
      "metadata": {
        "id": "iL_d7rmgYd9x",
        "colab": {
          "base_uri": "https://localhost:8080/"
        },
        "outputId": "d1d13f45-5362-4b5d-b344-40911c56d50b"
      },
      "source": [
        "# Program make a simple calculator\n",
        "\n",
        "# This function adds two numbers\n",
        "def add(x, y):\n",
        "    return x + y\n",
        "\n",
        "# This function subtracts two numbers\n",
        "def subtract(x, y):\n",
        "    return x - y\n",
        "\n",
        "# This function multiplies two numbers\n",
        "def multiply(x, y):\n",
        "    return x * y\n",
        "\n",
        "# This function divides two numbers\n",
        "def divide(x, y):\n",
        "    return x / y\n",
        "\n",
        "\n",
        "print(\"Select operation.\")\n",
        "print(\"1.Add\")\n",
        "print(\"2.Subtract\")\n",
        "print(\"3.Multiply\")\n",
        "print(\"4.Divide\")\n",
        "\n",
        "while True:\n",
        "    # Take input from the user\n",
        "    choice = input(\"Enter choice(1/2/3/4): \")\n",
        "\n",
        "    # Check if choice is one of the four options\n",
        "    if choice in ('1', '2', '3', '4'):\n",
        "        num1 = float(input(\"Enter first number: \"))\n",
        "        num2 = float(input(\"Enter second number: \"))\n",
        "\n",
        "        if choice == '1':\n",
        "            print(num1, \"+\", num2, \"=\", add(num1, num2))\n",
        "\n",
        "        elif choice == '2':\n",
        "            print(num1, \"-\", num2, \"=\", subtract(num1, num2))\n",
        "\n",
        "        elif choice == '3':\n",
        "            print(num1, \"*\", num2, \"=\", multiply(num1, num2))\n",
        "\n",
        "        elif choice == '4':\n",
        "            print(num1, \"/\", num2, \"=\", divide(num1, num2))\n",
        "        break\n",
        "    else:\n",
        "        print(\"Invalid Input\")"
      ],
      "execution_count": null,
      "outputs": [
        {
          "output_type": "stream",
          "text": [
            "Select operation.\n",
            "1.Add\n",
            "2.Subtract\n",
            "3.Multiply\n",
            "4.Divide\n",
            "Enter choice(1/2/3/4): 4\n",
            "Enter first number: 64\n",
            "Enter second number: 8\n",
            "64.0 / 8.0 = 8.0\n"
          ],
          "name": "stdout"
        }
      ]
    }
  ]
}